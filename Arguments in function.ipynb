{
 "cells": [
  {
   "cell_type": "markdown",
   "metadata": {},
   "source": [
    "#### Arguments in Functions"
   ]
  },
  {
   "cell_type": "markdown",
   "metadata": {},
   "source": [
    "In Python, `*args` and `**kwargs` are used to pass a variable number of arguments to a function. They allow you to write flexible functions that can accept a varying number of positional and keyword arguments.\n",
    "\n",
    "### `*args`\n",
    "\n",
    "`*args` is used to pass a variable number of positional arguments to a function. It allows you to pass any number of arguments to the function, which are then accessible as a tuple.\n",
    "\n",
    "### Example of `*args`\n",
    "\n",
    "Here's an example of a function that takes a variable number of positional arguments and prints them:\n",
    "\n"
   ]
  },
  {
   "cell_type": "code",
   "execution_count": null,
   "metadata": {},
   "outputs": [],
   "source": [
    "# Define a function that accepts a variable number of positional arguments\n",
    "def print_args(*args):\n",
    "    # Print the tuple of arguments\n",
    "    print(args)\n",
    "\n",
    "# Call the function with different numbers of arguments\n",
    "print_args(1, 2, 3)  # Output: (1, 2, 3)\n",
    "print_args('a', 'b', 'c', 'd')  # Output: ('a', 'b', 'c', 'd')"
   ]
  },
  {
   "cell_type": "markdown",
   "metadata": {},
   "source": [
    "\n",
    "\n",
    "### `**kwargs`\n",
    "\n",
    "`**kwargs` is used to pass a variable number of keyword arguments to a function. It allows you to pass any number of keyword arguments to the function, which are then accessible as a dictionary.\n",
    "\n",
    "### Example of `**kwargs`\n",
    "\n",
    "Here's an example of a function that takes a variable number of keyword arguments and prints them:\n",
    "\n"
   ]
  },
  {
   "cell_type": "code",
   "execution_count": null,
   "metadata": {},
   "outputs": [],
   "source": [
    "# Define a function that accepts a variable number of keyword arguments\n",
    "def print_kwargs(**kwargs):\n",
    "    # Print the dictionary of keyword arguments\n",
    "    print(kwargs)\n",
    "\n",
    "# Call the function with different keyword arguments\n",
    "print_kwargs(a=1, b=2, c=3)  # Output: {'a': 1, 'b': 2, 'c': 3}\n",
    "print_kwargs(name='Alice', age=30, city='New York')  # Output: {'name': 'Alice', 'age': 30, 'city': 'New York'}"
   ]
  },
  {
   "cell_type": "markdown",
   "metadata": {},
   "source": [
    "\n",
    "\n",
    "### Combining `*args` and `**kwargs`\n",
    "\n",
    "You can use both `*args` and `**kwargs` in the same function to accept a variable number of both positional and keyword arguments.\n",
    "\n",
    "### Example of Combining `*args` and `**kwargs`\n",
    "\n",
    "Here's an example of a function that takes both `*args` and `**kwargs` and prints them:\n",
    "\n"
   ]
  },
  {
   "cell_type": "code",
   "execution_count": null,
   "metadata": {},
   "outputs": [],
   "source": [
    "# Define a function that accepts both positional and keyword arguments\n",
    "def print_args_kwargs(*args, **kwargs):\n",
    "    # Print the tuple of positional arguments\n",
    "    print(\"Positional arguments:\", args)\n",
    "    # Print the dictionary of keyword arguments\n",
    "    print(\"Keyword arguments:\", kwargs)\n",
    "\n",
    "# Call the function with both positional and keyword arguments\n",
    "print_args_kwargs(1, 2, 3, a=4, b=5, c=6)\n",
    "# Output:\n",
    "# Positional arguments: (1, 2, 3)\n",
    "# Keyword arguments: {'a': 4, 'b': 5, 'c': 6}"
   ]
  },
  {
   "cell_type": "markdown",
   "metadata": {},
   "source": [
    "\n",
    "\n",
    "These examples demonstrate how `*args` and `**kwargs` can be used to create flexible functions that can handle a varying number of positional and keyword arguments. This is particularly useful when you don't know in advance how many arguments will be passed to the function."
   ]
  }
 ],
 "metadata": {
  "language_info": {
   "name": "python"
  }
 },
 "nbformat": 4,
 "nbformat_minor": 2
}
