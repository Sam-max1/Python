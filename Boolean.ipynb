{
 "cells": [
  {
   "cell_type": "markdown",
   "metadata": {},
   "source": [
    "### Boolean Data Type in Python\n",
    "\n",
    "#### What is a Boolean?\n",
    "#### A boolean is a data type that represents one of two values: True or False.\n",
    "#### It's used in logical operations and conditional statements.\n"
   ]
  },
  {
   "cell_type": "code",
   "execution_count": null,
   "metadata": {},
   "outputs": [],
   "source": [
    "# Creating Booleans\n",
    "\n",
    "# 1. Direct assignment\n",
    "is_true = True\n",
    "is_false = False\n",
    "\n",
    "print(is_true)  \n",
    "print(is_false) \n",
    "\n",
    "print(type(is_true)) "
   ]
  },
  {
   "cell_type": "code",
   "execution_count": null,
   "metadata": {},
   "outputs": [],
   "source": [
    "# 2. Using comparison operators (==, !=, >, <, >=, <=)\n",
    "result1 = 5 > 3\n",
    "result2 = 10 == 10\n",
    "result3 = 7 != 7\n",
    "print(result1) \n",
    "print(result2)  \n",
    "print(result3)  "
   ]
  },
  {
   "cell_type": "code",
   "execution_count": null,
   "metadata": {},
   "outputs": [],
   "source": [
    "# 3. Using logical operators (and, or, not)\n",
    "a = True\n",
    "b = False\n",
    "\n",
    "result4 = a and b  \n",
    "result5 = a or b  \n",
    "result6 = not a  \n",
    "\n",
    "print(result4) \n",
    "print(result5) \n",
    "print(result6) "
   ]
  },
  {
   "cell_type": "markdown",
   "metadata": {},
   "source": [
    "#### 4. Implicit boolean conversion (truthiness)\n",
    "- Many values in Python are implicitly converted to booleans when used in a boolean context.\n",
    "##### \"Truthy\" values (convert to True):\n",
    "- Non-empty strings, lists, tuples, dictionaries\n",
    "- Non-zero numbers\n",
    "##### \"Falsy\" values (convert to False):\n",
    "- Empty strings, lists, tuples, dictionaries\n",
    "- Zero (0)\n",
    "- None"
   ]
  },
  {
   "cell_type": "code",
   "execution_count": null,
   "metadata": {},
   "outputs": [],
   "source": [
    "if \"hello\": #Truthy\n",
    "    print(\"String 'hello' is True\")"
   ]
  },
  {
   "cell_type": "code",
   "execution_count": null,
   "metadata": {},
   "outputs": [],
   "source": [
    "if 10: #Truthy\n",
    "    print(\"Number 10 is True\")"
   ]
  },
  {
   "cell_type": "code",
   "execution_count": 3,
   "metadata": {},
   "outputs": [],
   "source": [
    "if []: #Falsy\n",
    "    print(\"Empty list is True\") #This won't print"
   ]
  },
  {
   "cell_type": "code",
   "execution_count": 4,
   "metadata": {},
   "outputs": [],
   "source": [
    "if 0: #Falsy\n",
    "    print(\"Zero is True\") #This won't print"
   ]
  },
  {
   "cell_type": "code",
   "execution_count": 5,
   "metadata": {},
   "outputs": [],
   "source": [
    "if None: #Falsy\n",
    "    print(\"None is True\") #This won't print"
   ]
  },
  {
   "cell_type": "code",
   "execution_count": null,
   "metadata": {},
   "outputs": [],
   "source": [
    "# Example: Using booleans in a conditional statement\n",
    "\n",
    "age = 20\n",
    "is_adult = age >= 18\n",
    "\n",
    "if is_adult:\n",
    "    print(\"You are an adult.\")\n",
    "else:\n",
    "    print(\"You are not an adult.\")"
   ]
  },
  {
   "cell_type": "code",
   "execution_count": null,
   "metadata": {},
   "outputs": [],
   "source": [
    "# Example: Using booleans with logical operators\n",
    "\n",
    "has_license = True\n",
    "has_car = False\n",
    "\n",
    "can_drive = has_license and has_car\n",
    "\n",
    "if can_drive:\n",
    "    print(\"You can drive.\")\n",
    "else:\n",
    "    print(\"You cannot drive.\")"
   ]
  },
  {
   "cell_type": "code",
   "execution_count": null,
   "metadata": {},
   "outputs": [],
   "source": [
    "# Boolean return values from functions\n",
    "\n",
    "def is_even(number):\n",
    "  return number % 2 == 0\n",
    "\n",
    "print(is_even(4)) \n",
    "print(is_even(7)) "
   ]
  },
  {
   "cell_type": "markdown",
   "metadata": {},
   "source": [
    "#### Key takeaways:\n",
    "\n",
    "- True and False: These are the only two possible values.\n",
    "- Comparison Operators: They produce boolean results.\n",
    "- Logical Operators: and, or, and not combine or invert boolean values.\n",
    "- Truthiness: Python automatically converts many values to booleans.\n",
    "- Conditional Logic: Booleans are essential for if, else, and while statements.\n",
    "- Functions: Functions can return boolean values."
   ]
  }
 ],
 "metadata": {
  "kernelspec": {
   "display_name": "base",
   "language": "python",
   "name": "python3"
  },
  "language_info": {
   "codemirror_mode": {
    "name": "ipython",
    "version": 3
   },
   "file_extension": ".py",
   "mimetype": "text/x-python",
   "name": "python",
   "nbconvert_exporter": "python",
   "pygments_lexer": "ipython3",
   "version": "3.12.7"
  }
 },
 "nbformat": 4,
 "nbformat_minor": 2
}
