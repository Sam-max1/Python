{
 "cells": [
  {
   "cell_type": "markdown",
   "metadata": {},
   "source": [
    "#### class in Python"
   ]
  },
  {
   "cell_type": "markdown",
   "metadata": {},
   "source": [
    "In Python, a class is a blueprint for creating objects. Classes encapsulate data for the object and methods to manipulate that data. They allow for the creation of user-defined data structures that can hold both data and functionality.\n",
    "\n",
    "### Defining a Class\n",
    "\n",
    "A class is defined using the `class` keyword, followed by the class name and a colon. The class body contains methods (functions) and attributes (variables).\n",
    "\n",
    "### Example of a Simple Class\n",
    "\n",
    "Here's an example of a simple class named `Person`:\n",
    "\n"
   ]
  },
  {
   "cell_type": "code",
   "execution_count": null,
   "metadata": {},
   "outputs": [],
   "source": [
    "# Define a class named Person\n",
    "class Person:\n",
    "    # Define the initializer method (constructor)\n",
    "    def __init__(self, name, age):\n",
    "        # Initialize the name attribute\n",
    "        self.name = name\n",
    "        # Initialize the age attribute\n",
    "        self.age = age\n",
    "\n",
    "    # Define a method to display the person's details\n",
    "    def display(self):\n",
    "        # Print the person's name and age\n",
    "        print(f\"Name: {self.name}, Age: {self.age}\")\n",
    "\n",
    "# Create an instance of the Person class\n",
    "person1 = Person(\"Alice\", 30)\n",
    "\n",
    "# Call the display method on the instance\n",
    "person1.display()  # Output: Name: Alice, Age: 30"
   ]
  },
  {
   "cell_type": "markdown",
   "metadata": {},
   "source": [
    "\n",
    "\n",
    "### Example of a Class with Inheritance\n",
    "\n",
    "Inheritance allows a class to inherit attributes and methods from another class. The class that inherits is called the child class, and the class being inherited from is called the parent class.\n",
    "\n",
    "Here's an example of a class with inheritance:\n",
    "\n"
   ]
  },
  {
   "cell_type": "code",
   "execution_count": null,
   "metadata": {},
   "outputs": [],
   "source": [
    "# Define a parent class named Animal\n",
    "class Animal:\n",
    "    # Define the initializer method (constructor)\n",
    "    def __init__(self, name):\n",
    "        # Initialize the name attribute\n",
    "        self.name = name\n",
    "\n",
    "    # Define a method to display the animal's name\n",
    "    def display(self):\n",
    "        # Print the animal's name\n",
    "        print(f\"Animal Name: {self.name}\")\n",
    "\n",
    "# Define a child class named Dog that inherits from Animal\n",
    "class Dog(Animal):\n",
    "    # Define the initializer method (constructor)\n",
    "    def __init__(self, name, breed):\n",
    "        # Call the parent class's initializer method\n",
    "        super().__init__(name)\n",
    "        # Initialize the breed attribute\n",
    "        self.breed = breed\n",
    "\n",
    "    # Define a method to display the dog's details\n",
    "    def display(self):\n",
    "        # Print the dog's name and breed\n",
    "        print(f\"Dog Name: {self.name}, Breed: {self.breed}\")\n",
    "\n",
    "# Create an instance of the Dog class\n",
    "dog1 = Dog(\"Buddy\", \"Golden Retriever\")\n",
    "\n",
    "# Call the display method on the instance\n",
    "dog1.display()  # Output: Dog Name: Buddy, Breed: Golden Retriever"
   ]
  },
  {
   "cell_type": "markdown",
   "metadata": {},
   "source": [
    "\n",
    "\n",
    "### Example of a Class with Encapsulation\n",
    "\n",
    "Encapsulation is the concept of wrapping data and methods within a single unit (class) and restricting access to some of the object's components. This is typically done using private attributes and methods.\n",
    "\n",
    "Here's an example of a class with encapsulation:\n",
    "\n"
   ]
  },
  {
   "cell_type": "code",
   "execution_count": null,
   "metadata": {},
   "outputs": [],
   "source": [
    "# Define a class named BankAccount\n",
    "class BankAccount:\n",
    "    # Define the initializer method (constructor)\n",
    "    def __init__(self, account_number, balance):\n",
    "        # Initialize the account number attribute\n",
    "        self.account_number = account_number\n",
    "        # Initialize the balance attribute (private)\n",
    "        self.__balance = balance\n",
    "\n",
    "    # Define a method to deposit money\n",
    "    def deposit(self, amount):\n",
    "        # Increase the balance by the deposit amount\n",
    "        self.__balance += amount\n",
    "\n",
    "    # Define a method to withdraw money\n",
    "    def withdraw(self, amount):\n",
    "        # Check if there are sufficient funds\n",
    "        if amount <= self.__balance:\n",
    "            # Decrease the balance by the withdrawal amount\n",
    "            self.__balance -= amount\n",
    "        else:\n",
    "            # Print an error message if insufficient funds\n",
    "            print(\"Insufficient funds\")\n",
    "\n",
    "    # Define a method to display the account balance\n",
    "    def display_balance(self):\n",
    "        # Print the account balance\n",
    "        print(f\"Account Balance: ${self.__balance}\")\n",
    "\n",
    "# Create an instance of the BankAccount class\n",
    "account = BankAccount(\"123456789\", 1000)\n",
    "\n",
    "# Deposit money into the account\n",
    "account.deposit(500)\n",
    "\n",
    "# Withdraw money from the account\n",
    "account.withdraw(200)\n",
    "\n",
    "# Display the account balance\n",
    "account.display_balance()  # Output: Account Balance: $1300"
   ]
  },
  {
   "cell_type": "markdown",
   "metadata": {},
   "source": [
    "\n",
    "\n",
    "These examples demonstrate how classes in Python can be defined, instantiated, and used with various features such as inheritance and encapsulation. Classes are fundamental to object-oriented programming and help in organizing code into reusable and maintainable structures."
   ]
  }
 ],
 "metadata": {
  "language_info": {
   "name": "python"
  }
 },
 "nbformat": 4,
 "nbformat_minor": 2
}
