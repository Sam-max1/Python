{
 "cells": [
  {
   "cell_type": "markdown",
   "metadata": {},
   "source": [
    "### Operators in Python\n",
    "\n",
    "#### Operators are symbols that perform operations on variables and values.\n",
    "#### Python supports various types of operators:\n"
   ]
  },
  {
   "cell_type": "code",
   "execution_count": null,
   "metadata": {},
   "outputs": [],
   "source": [
    "# 1. Arithmetic Operators\n",
    "# These operators perform mathematical operations.\n",
    "\n",
    "a = 10\n",
    "b = 3\n",
    "\n",
    "print(\"Arithmetic Operators:\")\n",
    "print(\"a + b =\", a + b)  # Addition: 13\n",
    "print(\"a - b =\", a - b)  # Subtraction: 7\n",
    "print(\"a * b =\", a * b)  # Multiplication: 30\n",
    "print(\"a / b =\", a / b)  # Division: 3.333...\n",
    "print(\"a // b =\", a // b) # Floor Division: 3 (integer division)\n",
    "print(\"a % b =\", a % b)  # Modulus: 1 (remainder)\n",
    "print(\"a ** b =\", a ** b) # Exponentiation: 1000"
   ]
  },
  {
   "cell_type": "code",
   "execution_count": null,
   "metadata": {},
   "outputs": [],
   "source": [
    "# 2. Comparison Operators\n",
    "# These operators compare values and return a boolean (True or False).\n",
    "\n",
    "x = 5\n",
    "y = 8\n",
    "\n",
    "print(\"\\nComparison Operators:\")\n",
    "print(\"x == y =\", x == y)  # Equal to: False\n",
    "print(\"x != y =\", x != y)  # Not equal to: True\n",
    "print(\"x > y =\", x > y)    # Greater than: False\n",
    "print(\"x < y =\", x < y)    # Less than: True\n",
    "print(\"x >= y =\", x >= y)  # Greater than or equal to: False\n",
    "print(\"x <= y =\", x <= y)  # Less than or equal to: True"
   ]
  },
  {
   "cell_type": "code",
   "execution_count": null,
   "metadata": {},
   "outputs": [],
   "source": [
    "# 3. Logical Operators\n",
    "# These operators combine boolean values.\n",
    "\n",
    "p = True\n",
    "q = False\n",
    "\n",
    "print(\"\\nLogical Operators:\")\n",
    "print(\"p and q =\", p and q)  # Logical AND: False\n",
    "print(\"p or q =\", p or q)   # Logical OR: True\n",
    "print(\"not p =\", not p)     # Logical NOT: False"
   ]
  },
  {
   "cell_type": "code",
   "execution_count": null,
   "metadata": {},
   "outputs": [],
   "source": [
    "# 4. Assignment Operators\n",
    "# These operators assign values to variables.\n",
    "\n",
    "num = 10\n",
    "\n",
    "print(\"\\nAssignment Operators:\")\n",
    "num += 5  # Equivalent to num = num + 5\n",
    "print(\"num += 5:\", num) #15\n",
    "\n",
    "num -= 3  # Equivalent to num = num - 3\n",
    "print(\"num -= 3:\", num) #12\n",
    "\n",
    "num *= 2  # Equivalent to num = num * 2\n",
    "print(\"num *= 2:\", num) #24\n",
    "\n",
    "num /= 4  # Equivalent to num = num / 4\n",
    "print(\"num /= 4:\", num) #6.0\n",
    "\n",
    "num //= 2 #Equivalent to num = num // 2\n",
    "print(\"num //= 2:\", num) #3.0\n",
    "\n",
    "num %= 2 #Equivalent to num = num % 2\n",
    "print(\"num %= 2:\", num) #1.0\n",
    "\n",
    "num **= 3 #equivalent to num = num ** 3\n",
    "print(\"num **= 3:\", num) #1.0"
   ]
  },
  {
   "cell_type": "code",
   "execution_count": null,
   "metadata": {},
   "outputs": [],
   "source": [
    "# 5. Identity Operators\n",
    "# These operators check if two variables refer to the same object in memory.\n",
    "\n",
    "list1 = [1, 2, 3]\n",
    "list2 = [1, 2, 3]\n",
    "list3 = list1\n",
    "\n",
    "print(\"\\nIdentity Operators:\")\n",
    "print(\"list1 is list2:\", list1 is list2)  # False (different objects)\n",
    "print(\"list1 is list3:\", list1 is list3)  # True (same object)\n",
    "print(\"list1 is not list2:\", list1 is not list2) # True\n",
    "print(\"list1 is not list3:\", list1 is not list3) # False"
   ]
  },
  {
   "cell_type": "code",
   "execution_count": null,
   "metadata": {},
   "outputs": [],
   "source": [
    "# 6. Membership Operators\n",
    "# These operators check if a value is a member of a sequence (string, list, tuple).\n",
    "\n",
    "text = \"Python\"\n",
    "my_list = [1, 2, 3, 4, 5]\n",
    "\n",
    "print(\"\\nMembership Operators:\")\n",
    "print(\"'P' in text:\", 'P' in text)  # True\n",
    "print(\"'p' in text:\", 'p' in text)  # False (case-sensitive)\n",
    "print(\"3 in my_list:\", 3 in my_list) # True\n",
    "print(\"6 in my_list:\", 6 in my_list) #False\n",
    "print(\"'th' not in text:\", 'th' not in text) #False\n",
    "print(\"8 not in my_list:\", 8 not in my_list) #True"
   ]
  },
  {
   "cell_type": "code",
   "execution_count": null,
   "metadata": {},
   "outputs": [],
   "source": [
    "# 7. Bitwise Operators\n",
    "# These operators perform bit-level operations.\n",
    "\n",
    "num1 = 10  # Binary: 1010\n",
    "num2 = 4   # Binary: 0100\n",
    "\n",
    "print(\"\\nBitwise Operators:\")\n",
    "print(\"num1 & num2:\", num1 & num2)  # Bitwise AND: 0 (0000)\n",
    "print(\"num1 | num2:\", num1 | num2)  # Bitwise OR: 14 (1110)\n",
    "print(\"num1 ^ num2:\", num1 ^ num2)  # Bitwise XOR: 14 (1110)\n",
    "print(\"~num1:\", ~num1)             # Bitwise NOT: -11\n",
    "print(\"num1 << 2:\", num1 << 2)     # Left shift: 40 (101000)\n",
    "print(\"num1 >> 2:\", num1 >> 2)     # Right shift: 2 (0010)"
   ]
  },
  {
   "cell_type": "markdown",
   "metadata": {},
   "source": [
    "### Key aspects:\n",
    "\n",
    "- Operator Precedence: Python follows a specific order of operations (like PEMDAS/BODMAS).\n",
    "- Data Types: The behavior of operators can depend on the data types involved.\n",
    "- Clarity: Use parentheses to make complex expressions more readable.\n",
    "- Purpose: Each operator category serves a distinct purpose in programming."
   ]
  }
 ],
 "metadata": {
  "language_info": {
   "name": "python"
  }
 },
 "nbformat": 4,
 "nbformat_minor": 2
}
