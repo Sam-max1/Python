{
 "cells": [
  {
   "cell_type": "markdown",
   "metadata": {},
   "source": [
    "#### Data types in Python"
   ]
  },
  {
   "cell_type": "markdown",
   "metadata": {},
   "source": [
    "In Python, data types are used to classify the type of data that a variable can hold. Here are some of the most commonly used data types in Python:\n",
    "\n",
    "### 1. Numeric Types\n",
    "- **int**: Integer type, used to represent whole numbers.\n",
    "- **float**: Floating-point type, used to represent decimal numbers.\n",
    "- **complex**: Complex number type, used to represent complex numbers with real and imaginary parts.\n",
    "\n",
    "### Example of Numeric Types\n",
    "\n"
   ]
  },
  {
   "cell_type": "code",
   "execution_count": null,
   "metadata": {},
   "outputs": [],
   "source": [
    "# Integer type\n",
    "a = 10  # a is an integer\n",
    "\n",
    "# Floating-point type\n",
    "b = 3.14  # b is a float\n",
    "\n",
    "# Complex type\n",
    "c = 1 + 2j  # c is a complex number"
   ]
  },
  {
   "cell_type": "markdown",
   "metadata": {},
   "source": [
    "\n",
    "\n",
    "### 2. Sequence Types\n",
    "- **str**: String type, used to represent text.\n",
    "- **list**: List type, used to represent an ordered collection of items.\n",
    "- **tuple**: Tuple type, used to represent an ordered, immutable collection of items.\n",
    "\n",
    "### Example of Sequence Types\n",
    "\n"
   ]
  },
  {
   "cell_type": "code",
   "execution_count": null,
   "metadata": {},
   "outputs": [],
   "source": [
    "# String type\n",
    "text = \"Hello, World!\"  # text is a string\n",
    "\n",
    "# List type\n",
    "numbers = [1, 2, 3, 4, 5]  # numbers is a list\n",
    "\n",
    "# Tuple type\n",
    "coordinates = (10.0, 20.0)  # coordinates is a tuple"
   ]
  },
  {
   "cell_type": "markdown",
   "metadata": {},
   "source": [
    "\n",
    "\n",
    "### 3. Mapping Type\n",
    "- **dict**: Dictionary type, used to represent a collection of key-value pairs.\n",
    "\n",
    "### Example of Mapping Type\n",
    "\n"
   ]
  },
  {
   "cell_type": "code",
   "execution_count": null,
   "metadata": {},
   "outputs": [],
   "source": [
    "# Dictionary type\n",
    "person = {\n",
    "    \"name\": \"Alice\",\n",
    "    \"age\": 30,\n",
    "    \"city\": \"New York\"\n",
    "}  # person is a dictionary"
   ]
  },
  {
   "cell_type": "markdown",
   "metadata": {},
   "source": [
    "\n",
    "\n",
    "### 4. Set Types\n",
    "- **set**: Set type, used to represent an unordered collection of unique items.\n",
    "- **frozenset**: Immutable set type, used to represent an unordered collection of unique items that cannot be modified.\n",
    "\n",
    "### Example of Set Types\n",
    "\n"
   ]
  },
  {
   "cell_type": "code",
   "execution_count": null,
   "metadata": {},
   "outputs": [],
   "source": [
    "# Set type\n",
    "fruits = {\"apple\", \"banana\", \"cherry\"}  # fruits is a set\n",
    "\n",
    "# Frozenset type\n",
    "frozen_fruits = frozenset([\"apple\", \"banana\", \"cherry\"])  # frozen_fruits is a frozenset"
   ]
  },
  {
   "cell_type": "markdown",
   "metadata": {},
   "source": [
    "\n",
    "\n",
    "### 5. Boolean Type\n",
    "- **bool**: Boolean type, used to represent `True` or `False`.\n",
    "\n",
    "### Example of Boolean Type\n",
    "\n"
   ]
  },
  {
   "cell_type": "code",
   "execution_count": null,
   "metadata": {},
   "outputs": [],
   "source": [
    "# Boolean type\n",
    "is_valid = True  # is_valid is a boolean\n",
    "is_active = False  # is_active is a boolean"
   ]
  },
  {
   "cell_type": "markdown",
   "metadata": {},
   "source": [
    "\n",
    "\n",
    "### 6. None Type\n",
    "- **NoneType**: Represents the absence of a value or a null value.\n",
    "\n",
    "### Example of None Type\n",
    "\n"
   ]
  },
  {
   "cell_type": "code",
   "execution_count": null,
   "metadata": {},
   "outputs": [],
   "source": [
    "# None type\n",
    "result = None  # result is NoneType"
   ]
  },
  {
   "cell_type": "markdown",
   "metadata": {},
   "source": [
    "\n",
    "\n",
    "### Explanation with Inline Comments\n",
    "\n"
   ]
  },
  {
   "cell_type": "code",
   "execution_count": null,
   "metadata": {},
   "outputs": [],
   "source": [
    "# Numeric Types\n",
    "\n",
    "# Integer type\n",
    "a = 10  # a is an integer\n",
    "\n",
    "# Floating-point type\n",
    "b = 3.14  # b is a float\n",
    "\n",
    "# Complex type\n",
    "c = 1 + 2j  # c is a complex number\n",
    "\n",
    "# Sequence Types\n",
    "\n",
    "# String type\n",
    "text = \"Hello, World!\"  # text is a string\n",
    "\n",
    "# List type\n",
    "numbers = [1, 2, 3, 4, 5]  # numbers is a list\n",
    "\n",
    "# Tuple type\n",
    "coordinates = (10.0, 20.0)  # coordinates is a tuple\n",
    "\n",
    "# Mapping Type\n",
    "\n",
    "# Dictionary type\n",
    "person = {\n",
    "    \"name\": \"Alice\",\n",
    "    \"age\": 30,\n",
    "    \"city\": \"New York\"\n",
    "}  # person is a dictionary\n",
    "\n",
    "# Set Types\n",
    "\n",
    "# Set type\n",
    "fruits = {\"apple\", \"banana\", \"cherry\"}  # fruits is a set\n",
    "\n",
    "# Frozenset type\n",
    "frozen_fruits = frozenset([\"apple\", \"banana\", \"cherry\"])  # frozen_fruits is a frozenset\n",
    "\n",
    "# Boolean Type\n",
    "\n",
    "# Boolean type\n",
    "is_valid = True  # is_valid is a boolean\n",
    "is_active = False  # is_active is a boolean\n",
    "\n",
    "# None Type\n",
    "\n",
    "# None type\n",
    "result = None  # result is NoneType"
   ]
  },
  {
   "cell_type": "markdown",
   "metadata": {},
   "source": [
    "\n",
    "\n",
    "These examples demonstrate the various data types available in Python and how they can be used to store different kinds of data. Each data type has its own characteristics and is used for different purposes in programming."
   ]
  }
 ],
 "metadata": {
  "language_info": {
   "name": "python"
  }
 },
 "nbformat": 4,
 "nbformat_minor": 2
}
