{
 "cells": [
  {
   "cell_type": "markdown",
   "metadata": {},
   "source": [
    "### Dictionaries in Python\n",
    "\n",
    "#### What is a Dictionary?\n",
    "##### A dictionary is a collection of key-value pairs.\n",
    "##### It's like a real-world dictionary where you look up a word (key) to find its definition (value).\n",
    "#### Dictionaries are:\n",
    "- Mutable (changeable)\n",
    "- Unordered (items don't have a specific position)\n",
    "- Keys must be unique and immutable (strings, numbers, tuples)\n",
    "- Values can be of any data type"
   ]
  },
  {
   "cell_type": "code",
   "execution_count": null,
   "metadata": {},
   "outputs": [],
   "source": [
    "# Creating a Dictionary\n",
    "\n",
    "# 1. Using curly braces {}\n",
    "my_dict = {\"name\": \"Alice\", \"age\": 30, \"city\": \"New York\"}\n",
    "print(my_dict)"
   ]
  },
  {
   "cell_type": "code",
   "execution_count": null,
   "metadata": {},
   "outputs": [],
   "source": [
    "# 2. Using the dict() constructor\n",
    "my_dict2 = dict(name=\"Bob\", age=25, city=\"London\")\n",
    "print(my_dict2)"
   ]
  },
  {
   "cell_type": "code",
   "execution_count": null,
   "metadata": {},
   "outputs": [],
   "source": [
    "# 3. Creating an empty dictionary\n",
    "empty_dict = {}\n",
    "print(empty_dict) "
   ]
  },
  {
   "cell_type": "code",
   "execution_count": null,
   "metadata": {},
   "outputs": [],
   "source": [
    "# Accessing Values\n",
    "\n",
    "# 1. Using square brackets [] with the key\n",
    "print(my_dict[\"name\"]) "
   ]
  },
  {
   "cell_type": "code",
   "execution_count": null,
   "metadata": {},
   "outputs": [],
   "source": [
    "# 2. Using the get() method (returns None if key is not found)\n",
    "print(my_dict.get(\"age\"))  \n",
    "print(my_dict.get(\"country\")) \n",
    "print(my_dict.get(\"country\", \"Default Country\")) "
   ]
  },
  {
   "cell_type": "code",
   "execution_count": null,
   "metadata": {},
   "outputs": [],
   "source": [
    "# Modifying Dictionaries\n",
    "\n",
    "# 1. Adding a new key-value pair\n",
    "my_dict[\"job\"] = \"Engineer\"\n",
    "print(my_dict)  \n"
   ]
  },
  {
   "cell_type": "code",
   "execution_count": null,
   "metadata": {},
   "outputs": [],
   "source": [
    "# 2. Updating an existing value\n",
    "my_dict[\"age\"] = 31\n",
    "print(my_dict)  "
   ]
  },
  {
   "cell_type": "code",
   "execution_count": null,
   "metadata": {},
   "outputs": [],
   "source": [
    "# 3. Removing a key-value pair\n",
    "del my_dict[\"city\"]\n",
    "print(my_dict) "
   ]
  },
  {
   "cell_type": "code",
   "execution_count": null,
   "metadata": {},
   "outputs": [],
   "source": [
    "# 4. Removing a key-value pair using pop. returns the value.\n",
    "removed_age = my_dict.pop(\"age\")\n",
    "print(my_dict) \n",
    "print(removed_age) "
   ]
  },
  {
   "cell_type": "code",
   "execution_count": null,
   "metadata": {},
   "outputs": [],
   "source": [
    "# 5. Removing the last inserted key-value pair using popitem(). returns a tuple of the removed key value pair.\n",
    "my_dict[\"city\"] = \"Paris\"\n",
    "last_item = my_dict.popitem()\n",
    "print(my_dict) \n",
    "print(last_item) \n"
   ]
  },
  {
   "cell_type": "code",
   "execution_count": null,
   "metadata": {},
   "outputs": [],
   "source": [
    "# Dictionary Methods\n",
    "\n",
    "# 1. keys(): Returns a view object of keys\n",
    "keys = my_dict.keys()\n",
    "print(keys) "
   ]
  },
  {
   "cell_type": "code",
   "execution_count": null,
   "metadata": {},
   "outputs": [],
   "source": [
    "# 2. values(): Returns a view object of values\n",
    "values = my_dict.values()\n",
    "print(values) "
   ]
  },
  {
   "cell_type": "code",
   "execution_count": null,
   "metadata": {},
   "outputs": [],
   "source": [
    "# 3. items(): Returns a view object of key-value pairs (tuples)\n",
    "items = my_dict.items()\n",
    "print(items) "
   ]
  },
  {
   "cell_type": "code",
   "execution_count": null,
   "metadata": {},
   "outputs": [],
   "source": [
    "# 4. clear(): Removes all items from the dictionary\n",
    "my_dict.clear()\n",
    "print(my_dict) "
   ]
  },
  {
   "cell_type": "code",
   "execution_count": null,
   "metadata": {},
   "outputs": [],
   "source": [
    "# 5. copy(): Returns a shallow copy of the dictionary.\n",
    "original_dict = {\"a\":1, \"b\":2}\n",
    "copied_dict = original_dict.copy()\n",
    "print(copied_dict) "
   ]
  },
  {
   "cell_type": "code",
   "execution_count": null,
   "metadata": {},
   "outputs": [],
   "source": [
    "# Iterating Through a Dictionary\n",
    "\n",
    "person = {\"name\": \"Charlie\", \"age\": 35, \"occupation\": \"Developer\"}\n",
    "\n",
    "# 1. Iterating through keys\n",
    "for key in person:\n",
    "    print(key)"
   ]
  },
  {
   "cell_type": "code",
   "execution_count": null,
   "metadata": {},
   "outputs": [],
   "source": [
    "# 2. Iterating through values\n",
    "for value in person.values():\n",
    "    print(value)"
   ]
  },
  {
   "cell_type": "code",
   "execution_count": null,
   "metadata": {},
   "outputs": [],
   "source": [
    "# 3. Iterating through key-value pairs\n",
    "for key, value in person.items():\n",
    "    print(f\"{key}: {value}\")"
   ]
  },
  {
   "cell_type": "code",
   "execution_count": null,
   "metadata": {},
   "outputs": [],
   "source": [
    "# Nested Dictionaries\n",
    "nested_dict = {\n",
    "    \"student1\": {\"name\": \"David\", \"grades\": [90, 85, 92]},\n",
    "    \"student2\": {\"name\": \"Eve\", \"grades\": [78, 88, 95]}\n",
    "}\n",
    "print(nested_dict[\"student1\"][\"grades\"][0]) "
   ]
  }
 ],
 "metadata": {
  "kernelspec": {
   "display_name": "base",
   "language": "python",
   "name": "python3"
  },
  "language_info": {
   "codemirror_mode": {
    "name": "ipython",
    "version": 3
   },
   "file_extension": ".py",
   "mimetype": "text/x-python",
   "name": "python",
   "nbconvert_exporter": "python",
   "pygments_lexer": "ipython3",
   "version": "3.12.7"
  }
 },
 "nbformat": 4,
 "nbformat_minor": 2
}
