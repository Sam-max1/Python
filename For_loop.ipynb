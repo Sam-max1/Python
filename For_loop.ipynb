{
 "cells": [
  {
   "cell_type": "markdown",
   "metadata": {},
   "source": [
    "#### for loop in Python"
   ]
  },
  {
   "cell_type": "markdown",
   "metadata": {},
   "source": [
    "A `for` loop in Python is used to iterate over a sequence (such as a list, tuple, string, or range) and execute a block of code for each element in the sequence. The `for` loop is often used when the number of iterations is known beforehand.\n",
    "\n",
    "#### Basic Syntax of a `for` Loop\n",
    "\n"
   ]
  },
  {
   "cell_type": "code",
   "execution_count": null,
   "metadata": {},
   "outputs": [],
   "source": [
    "for element in sequence:\n",
    "    # Code to execute for each element"
   ]
  },
  {
   "cell_type": "markdown",
   "metadata": {},
   "source": [
    "\n",
    "\n",
    "### Example of a `for` Loop\n",
    "\n",
    "Here's an example of a `for` loop that prints each element in a list:\n",
    "\n"
   ]
  },
  {
   "cell_type": "code",
   "execution_count": null,
   "metadata": {},
   "outputs": [],
   "source": [
    "# Define a list of numbers\n",
    "numbers = [1, 2, 3, 4, 5]\n",
    "\n",
    "# Start the for loop to iterate over each element in the list\n",
    "for num in numbers:\n",
    "    # Print the current element\n",
    "    print(num)"
   ]
  },
  {
   "cell_type": "markdown",
   "metadata": {},
   "source": [
    "\n",
    "\n",
    "### Explanation with Inline Comments\n",
    "\n"
   ]
  },
  {
   "cell_type": "code",
   "execution_count": null,
   "metadata": {},
   "outputs": [],
   "source": [
    "# Define a list of numbers\n",
    "numbers = [1, 2, 3, 4, 5]\n",
    "\n",
    "# Start the for loop to iterate over each element in the list\n",
    "for num in numbers:\n",
    "    # Print the current element\n",
    "    print(num)\n",
    "    # The loop will continue until all elements in the list have been printed"
   ]
  },
  {
   "cell_type": "markdown",
   "metadata": {},
   "source": [
    "\n",
    "\n",
    "### More Examples\n",
    "\n",
    "#### Example 1: `for` Loop with `range()`\n",
    "\n"
   ]
  },
  {
   "cell_type": "code",
   "execution_count": null,
   "metadata": {},
   "outputs": [],
   "source": [
    "# Use range() to generate a sequence of numbers from 0 to 4\n",
    "for i in range(5):\n",
    "    # Print the current number\n",
    "    print(i)"
   ]
  },
  {
   "cell_type": "markdown",
   "metadata": {},
   "source": [
    "\n",
    "\n",
    "#### Example 2: `for` Loop with a String\n",
    "\n"
   ]
  },
  {
   "cell_type": "code",
   "execution_count": null,
   "metadata": {},
   "outputs": [],
   "source": [
    "# Define a string\n",
    "text = \"Hello\"\n",
    "\n",
    "# Start the for loop to iterate over each character in the string\n",
    "for char in text:\n",
    "    # Print the current character\n",
    "    print(char)"
   ]
  },
  {
   "cell_type": "markdown",
   "metadata": {},
   "source": [
    "\n",
    "\n",
    "#### Example 3: `for` Loop with `enumerate()`\n",
    "\n"
   ]
  },
  {
   "cell_type": "code",
   "execution_count": null,
   "metadata": {},
   "outputs": [],
   "source": [
    "# Define a list of fruits\n",
    "fruits = [\"apple\", \"banana\", \"cherry\"]\n",
    "\n",
    "# Start the for loop with enumerate() to get both index and element\n",
    "for index, fruit in enumerate(fruits):\n",
    "    # Print the index and the current fruit\n",
    "    print(f\"Index: {index}, Fruit: {fruit}\")"
   ]
  },
  {
   "cell_type": "markdown",
   "metadata": {},
   "source": [
    "\n",
    "\n",
    "### Explanation with Inline Comments\n",
    "\n"
   ]
  },
  {
   "cell_type": "code",
   "execution_count": null,
   "metadata": {},
   "outputs": [],
   "source": [
    "# Example 1: for loop with range()\n",
    "\n",
    "# Use range() to generate a sequence of numbers from 0 to 4\n",
    "for i in range(5):\n",
    "    # Print the current number\n",
    "    print(i)\n",
    "    # The loop will continue until all numbers in the range have been printed\n",
    "\n",
    "# Example 2: for loop with a string\n",
    "\n",
    "# Define a string\n",
    "text = \"Hello\"\n",
    "\n",
    "# Start the for loop to iterate over each character in the string\n",
    "for char in text:\n",
    "    # Print the current character\n",
    "    print(char)\n",
    "    # The loop will continue until all characters in the string have been printed\n",
    "\n",
    "# Example 3: for loop with enumerate()\n",
    "\n",
    "# Define a list of fruits\n",
    "fruits = [\"apple\", \"banana\", \"cherry\"]\n",
    "\n",
    "# Start the for loop with enumerate() to get both index and element\n",
    "for index, fruit in enumerate(fruits):\n",
    "    # Print the index and the current fruit\n",
    "    print(f\"Index: {index}, Fruit: {fruit}\")\n",
    "    # The loop will continue until all elements in the list have been printed"
   ]
  },
  {
   "cell_type": "markdown",
   "metadata": {},
   "source": [
    "\n",
    "\n",
    "These examples demonstrate how `for` loops can be used to iterate over different types of sequences, such as lists, ranges, and strings, and how the `enumerate()` function can be used to get both the index and the element during iteration."
   ]
  }
 ],
 "metadata": {
  "language_info": {
   "name": "python"
  }
 },
 "nbformat": 4,
 "nbformat_minor": 2
}
