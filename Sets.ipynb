{
 "cells": [
  {
   "cell_type": "markdown",
   "metadata": {},
   "source": [
    "### Sets in Python\n",
    "\n",
    "#### What is a Set?\n",
    "#### A set is an unordered collection of unique elements.\n",
    "#### It means that:\n",
    "- Sets do not allow duplicate values.\n",
    "- Sets are unordered, so elements don't have a specific position or index.\n",
    "- Sets are mutable (you can add or remove elements).\n",
    "- Sets can contain elements of different data types."
   ]
  },
  {
   "cell_type": "code",
   "execution_count": null,
   "metadata": {},
   "outputs": [],
   "source": [
    "# Creating Sets\n",
    "\n",
    "# 1. Using curly braces {}\n",
    "my_set = {1, 2, 3, 4, 5}\n",
    "print(my_set)  # Output: {1, 2, 3, 4, 5}"
   ]
  },
  {
   "cell_type": "code",
   "execution_count": null,
   "metadata": {},
   "outputs": [],
   "source": [
    "# 2. Using the set() constructor\n",
    "my_set2 = set([1, 2, 2, 3, 4, 5, 5])  # Duplicate elements are removed\n",
    "print(my_set2) #Output: {1, 2, 3, 4, 5}\n",
    "\n",
    "my_set3 = set(\"hello\") #string becomes a set of unique characters.\n",
    "print(my_set3) #Output: {'h', 'e', 'l', 'o'}"
   ]
  },
  {
   "cell_type": "code",
   "execution_count": null,
   "metadata": {},
   "outputs": [],
   "source": [
    "# 3. Creating an empty set (use set(), not {})\n",
    "empty_set = set()\n",
    "print(empty_set) #Output: set()"
   ]
  },
  {
   "cell_type": "code",
   "execution_count": null,
   "metadata": {},
   "outputs": [],
   "source": [
    "# Set Operations\n",
    "\n",
    "set1 = {1, 2, 3, 4, 5}\n",
    "set2 = {4, 5, 6, 7, 8}\n",
    "\n",
    "# 1. Union (|)\n",
    "union_set = set1 | set2\n",
    "print(\"Union:\", union_set)  # Output: {1, 2, 3, 4, 5, 6, 7, 8}"
   ]
  },
  {
   "cell_type": "code",
   "execution_count": null,
   "metadata": {},
   "outputs": [],
   "source": [
    "# 2. Intersection (&)\n",
    "intersection_set = set1 & set2\n",
    "print(\"Intersection:\", intersection_set) #Output: {4, 5}"
   ]
  },
  {
   "cell_type": "code",
   "execution_count": null,
   "metadata": {},
   "outputs": [],
   "source": [
    "# 3. Difference (-)\n",
    "difference_set = set1 - set2\n",
    "print(\"Difference (set1 - set2):\", difference_set) #Output: {1, 2, 3}\n",
    "\n",
    "difference_set2 = set2 - set1\n",
    "print(\"Difference (set2 - set1):\", difference_set2) #Output: {8, 6, 7}"
   ]
  },
  {
   "cell_type": "code",
   "execution_count": null,
   "metadata": {},
   "outputs": [],
   "source": [
    "# 4. Symmetric Difference (^)\n",
    "symmetric_difference_set = set1 ^ set2\n",
    "print(\"Symmetric Difference:\", symmetric_difference_set) #Output: {1, 2, 3, 6, 7, 8}"
   ]
  },
  {
   "cell_type": "code",
   "execution_count": null,
   "metadata": {},
   "outputs": [],
   "source": [
    "# Set Methods\n",
    "\n",
    "my_set = {1, 2, 3}\n",
    "\n",
    "# 1. Adding an element (add())\n",
    "my_set.add(4)\n",
    "print(my_set) #Output: {1, 2, 3, 4}"
   ]
  },
  {
   "cell_type": "code",
   "execution_count": null,
   "metadata": {},
   "outputs": [],
   "source": [
    "# 2. Adding multiple elements (update())\n",
    "my_set.update([5, 6, 7])\n",
    "print(my_set) #Output: {1, 2, 3, 4, 5, 6, 7}\n"
   ]
  },
  {
   "cell_type": "code",
   "execution_count": null,
   "metadata": {},
   "outputs": [],
   "source": [
    "# 3. Removing an element (remove())\n",
    "my_set.remove(3)\n",
    "print(my_set) #Output: {1, 2, 4, 5, 6, 7}"
   ]
  },
  {
   "cell_type": "code",
   "execution_count": null,
   "metadata": {},
   "outputs": [],
   "source": [
    "# 4. Removing an element (discard()) - doesn't raise an error if the element is not found\n",
    "my_set.discard(8) #no error\n",
    "my_set.discard(2)\n",
    "print(my_set) #Output: {1, 4, 5, 6, 7}"
   ]
  },
  {
   "cell_type": "code",
   "execution_count": null,
   "metadata": {},
   "outputs": [],
   "source": [
    "# 5. Removing and returning an arbitrary element (pop())\n",
    "popped_element = my_set.pop()\n",
    "print(\"Popped Element:\", popped_element) #Output: Popped Element: 1 (or another arbitrary element)\n",
    "print(my_set) #Output: {4, 5, 6, 7}\n"
   ]
  },
  {
   "cell_type": "code",
   "execution_count": null,
   "metadata": {},
   "outputs": [],
   "source": [
    "# 6. Clearing all elements (clear())\n",
    "my_set.clear()\n",
    "print(my_set) #Output: set()"
   ]
  },
  {
   "cell_type": "code",
   "execution_count": null,
   "metadata": {},
   "outputs": [],
   "source": [
    "# 7. checking for subset and superset.\n",
    "set_a = {1,2,3}\n",
    "set_b = {1,2,3,4,5}\n",
    "\n",
    "print(set_a.issubset(set_b)) #True\n",
    "print(set_b.issuperset(set_a)) #True"
   ]
  },
  {
   "cell_type": "code",
   "execution_count": null,
   "metadata": {},
   "outputs": [],
   "source": [
    "# Frozen Sets\n",
    "\n",
    "# Frozen sets are immutable versions of sets.\n",
    "# They cannot be modified after creation.\n",
    "\n",
    "frozen_set = frozenset([1, 2, 3])\n",
    "print(frozen_set) #Output: frozenset({1, 2, 3})\n",
    "\n",
    "# frozen_set.add(4) #This will raise an error, because frozen sets are immutable.\n"
   ]
  },
  {
   "cell_type": "markdown",
   "metadata": {},
   "source": [
    "#### Common Use Cases:\n",
    "\n",
    "- Removing duplicates from a list.\n",
    "- Performing set operations (union, intersection, etc.).\n",
    "- Checking for membership efficiently.\n",
    "- When you need an immutable set (frozenset)."
   ]
  }
 ],
 "metadata": {
  "language_info": {
   "name": "python"
  }
 },
 "nbformat": 4,
 "nbformat_minor": 2
}
