{
 "cells": [
  {
   "cell_type": "markdown",
   "metadata": {},
   "source": [
    "# Python Classes\n",
    "\n",
    "A class is a blueprint for creating objects that bundle data and functionality together. Here are examples showing different aspects of classes in Python:\n",
    "\n",
    "### Basic Class Definition\n",
    "\n"
   ]
  },
  {
   "cell_type": "code",
   "execution_count": null,
   "metadata": {},
   "outputs": [],
   "source": [
    "# Basic class example showing attributes and methods\n",
    "class Person:\n",
    "    # Class attribute shared by all instances\n",
    "    species = \"Homo sapiens\"\n",
    "    \n",
    "    # Constructor method (initializer)\n",
    "    def __init__(self, name, age):\n",
    "        # Instance attributes unique to each instance\n",
    "        self.name = name  # Store the name parameter\n",
    "        self.age = age    # Store the age parameter\n",
    "    \n",
    "    # Instance method\n",
    "    def introduce(self):\n",
    "        # Method to print person's details\n",
    "        print(f\"Hi, I'm {self.name} and I'm {self.age} years old.\")\n",
    "\n",
    "# Create an instance of Person\n",
    "person1 = Person(\"Alice\", 30)\n",
    "\n",
    "# Call the introduce method\n",
    "person1.introduce()  # Output: Hi, I'm Alice and I'm 30 years old."
   ]
  },
  {
   "cell_type": "markdown",
   "metadata": {},
   "source": [
    "\n",
    "\n",
    "### Inheritance Example\n",
    "\n"
   ]
  },
  {
   "cell_type": "code",
   "execution_count": null,
   "metadata": {},
   "outputs": [],
   "source": [
    "# Parent class (base class)\n",
    "class Animal:\n",
    "    def __init__(self, name):\n",
    "        self.name = name    # Store animal's name\n",
    "    \n",
    "    def speak(self):\n",
    "        pass               # Base method to be overridden\n",
    "\n",
    "# Child class (derived class)\n",
    "class Dog(Animal):\n",
    "    def __init__(self, name, breed):\n",
    "        super().__init__(name)  # Call parent class constructor\n",
    "        self.breed = breed      # Add breed attribute\n",
    "    \n",
    "    def speak(self):\n",
    "        return f\"{self.name} says Woof!\"  # Override speak method\n",
    "\n",
    "# Create an instance of Dog\n",
    "dog1 = Dog(\"Buddy\", \"Golden Retriever\")\n",
    "print(dog1.speak())  # Output: Buddy says Woof!"
   ]
  },
  {
   "cell_type": "markdown",
   "metadata": {},
   "source": [
    "\n",
    "\n",
    "### Encapsulation Example\n",
    "\n"
   ]
  },
  {
   "cell_type": "code",
   "execution_count": null,
   "metadata": {},
   "outputs": [],
   "source": [
    "class BankAccount:\n",
    "    def __init__(self, account_number):\n",
    "        self.account_number = account_number  # Public attribute\n",
    "        self.__balance = 0                    # Private attribute\n",
    "    \n",
    "    def deposit(self, amount):\n",
    "        # Method to add money to account\n",
    "        if amount > 0:\n",
    "            self.__balance += amount\n",
    "            return True\n",
    "        return False\n",
    "    \n",
    "    def get_balance(self):\n",
    "        # Method to safely access private balance\n",
    "        return self.__balance\n",
    "\n",
    "# Create a bank account\n",
    "account = BankAccount(\"12345\")\n",
    "account.deposit(1000)\n",
    "print(account.get_balance())  # Output: 1000"
   ]
  },
  {
   "cell_type": "markdown",
   "metadata": {},
   "source": [
    "\n",
    "\n",
    "### Class with Properties\n",
    "\n"
   ]
  },
  {
   "cell_type": "code",
   "execution_count": null,
   "metadata": {},
   "outputs": [],
   "source": [
    "class Temperature:\n",
    "    def __init__(self, celsius=0):\n",
    "        self.__celsius = celsius    # Private attribute\n",
    "    \n",
    "    @property\n",
    "    def celsius(self):\n",
    "        # Getter method for celsius\n",
    "        return self.__celsius\n",
    "    \n",
    "    @property\n",
    "    def fahrenheit(self):\n",
    "        # Getter method that converts celsius to fahrenheit\n",
    "        return (self.celsius * 9/5) + 32\n",
    "    \n",
    "    @celsius.setter\n",
    "    def celsius(self, value):\n",
    "        # Setter method for celsius\n",
    "        if value >= -273.15:  # Absolute zero check\n",
    "            self.__celsius = value\n",
    "        else:\n",
    "            raise ValueError(\"Temperature below absolute zero!\")\n",
    "\n",
    "# Create a temperature object\n",
    "temp = Temperature(25)\n",
    "print(f\"Celsius: {temp.celsius}°C\")        # Output: Celsius: 25°C\n",
    "print(f\"Fahrenheit: {temp.fahrenheit}°F\")  # Output: Fahrenheit: 77°F"
   ]
  },
  {
   "cell_type": "markdown",
   "metadata": {},
   "source": [
    "\n",
    "\n",
    "These examples demonstrate key concepts of classes in Python:\n",
    "- Class definition and instantiation\n",
    "- Instance methods and attributes\n",
    "- Class attributes\n",
    "- Inheritance and method overriding\n",
    "- Encapsulation with private attributes\n",
    "- Properties for controlled access to attributes\n",
    "\n",
    "Remember:\n",
    "- Class names typically use CamelCase\n",
    "- Instance methods always take `self` as the first parameter\n",
    "- Private attributes start with double underscore (`__`)\n",
    "- The `@property` decorator creates getters and setters\n",
    "- Use `super()` to call methods from parent class"
   ]
  }
 ],
 "metadata": {
  "language_info": {
   "name": "python"
  }
 },
 "nbformat": 4,
 "nbformat_minor": 2
}
