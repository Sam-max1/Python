# Dictionaries in Python

# What is a Dictionary?
# A dictionary is a collection of key-value pairs.
# It's like a real-world dictionary where you look up a word (key) to find its definition (value).
# Dictionaries are:
#   - Mutable (changeable)
#   - Unordered (items don't have a specific position)
#   - Keys must be unique and immutable (strings, numbers, tuples)
#   - Values can be of any data type

# Creating a Dictionary

# 1. Using curly braces {}
my_dict = {"name": "Alice", "age": 30, "city": "New York"}
print(my_dict)  # Output: {'name': 'Alice', 'age': 30, 'city': 'New York'}

# 2. Using the dict() constructor
my_dict2 = dict(name="Bob", age=25, city="London")
print(my_dict2)  # Output: {'name': 'Bob', 'age': 25, 'city': 'London'}

# 3. Creating an empty dictionary
empty_dict = {}
print(empty_dict) #Output: {}

# Accessing Values

# 1. Using square brackets [] with the key
print(my_dict["name"])  # Output: Alice

# 2. Using the get() method (returns None if key is not found)
print(my_dict.get("age"))  # Output: 30
print(my_dict.get("country")) #Output: None
print(my_dict.get("country", "Default Country")) #Output: Default Country

# Modifying Dictionaries

# 1. Adding a new key-value pair
my_dict["job"] = "Engineer"
print(my_dict)  # Output: {'name': 'Alice', 'age': 30, 'city': 'New York', 'job': 'Engineer'}

# 2. Updating an existing value
my_dict["age"] = 31
print(my_dict)  # Output: {'name': 'Alice', 'age': 31, 'city': 'New York', 'job': 'Engineer'}

# 3. Removing a key-value pair
del my_dict["city"]
print(my_dict)  # Output: {'name': 'Alice', 'age': 31, 'job': 'Engineer'}

# 4. Removing a key-value pair using pop. returns the value.
removed_age = my_dict.pop("age")
print(my_dict) #Output: {'name': 'Alice', 'job': 'Engineer'}
print(removed_age) #Output: 31

# 5. Removing the last inserted key-value pair using popitem(). returns a tuple of the removed key value pair.
my_dict["city"] = "Paris"
last_item = my_dict.popitem()
print(my_dict) #Output: {'name': 'Alice', 'job': 'Engineer'}
print(last_item) #Output: ('city', 'Paris')

# Dictionary Methods

# 1. keys(): Returns a view object of keys
keys = my_dict.keys()
print(keys) #Output: dict_keys(['name', 'job'])

# 2. values(): Returns a view object of values
values = my_dict.values()
print(values) #Output: dict_values(['Alice', 'Engineer'])

# 3. items(): Returns a view object of key-value pairs (tuples)
items = my_dict.items()
print(items) #Output: dict_items([('name', 'Alice'), ('job', 'Engineer')])

# 4. clear(): Removes all items from the dictionary
my_dict.clear()
print(my_dict) #Output: {}

# 5. copy(): Returns a shallow copy of the dictionary.
original_dict = {"a":1, "b":2}
copied_dict = original_dict.copy()
print(copied_dict) #{'a': 1, 'b': 2}

# Iterating Through a Dictionary

person = {"name": "Charlie", "age": 35, "occupation": "Developer"}

# 1. Iterating through keys
for key in person:
    print(key)

# 2. Iterating through values
for value in person.values():
    print(value)

# 3. Iterating through key-value pairs
for key, value in person.items():
    print(f"{key}: {value}")

# Nested Dictionaries
nested_dict = {
    "student1": {"name": "David", "grades": [90, 85, 92]},
    "student2": {"name": "Eve", "grades": [78, 88, 95]}
}
print(nested_dict["student1"]["grades"][0]) #Output: 90
