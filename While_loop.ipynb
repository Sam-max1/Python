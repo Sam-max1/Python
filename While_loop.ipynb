{
 "cells": [
  {
   "cell_type": "markdown",
   "metadata": {},
   "source": [
    "#### while loop in Python"
   ]
  },
  {
   "cell_type": "markdown",
   "metadata": {},
   "source": [
    "A `while` loop in Python repeatedly executes a block of code as long as a given condition is `True`. The condition is evaluated before each iteration, and if it evaluates to `False`, the loop terminates.\n",
    "\n",
    "#### Basic Syntax of a `while` Loop\n",
    "\n"
   ]
  },
  {
   "cell_type": "code",
   "execution_count": null,
   "metadata": {},
   "outputs": [],
   "source": [
    "while condition:\n",
    "    # Code to execute repeatedly"
   ]
  },
  {
   "cell_type": "markdown",
   "metadata": {},
   "source": [
    "\n",
    "\n",
    "### Example of a `while` Loop\n",
    "\n",
    "Here's an example of a `while` loop that prints numbers from 1 to 5:\n",
    "\n"
   ]
  },
  {
   "cell_type": "code",
   "execution_count": null,
   "metadata": {},
   "outputs": [],
   "source": [
    "# Initialize a variable\n",
    "count = 1\n",
    "\n",
    "# Start the while loop\n",
    "while count <= 5:\n",
    "    # Print the current value of count\n",
    "    print(count)\n",
    "    \n",
    "    # Increment the count by 1\n",
    "    count += 1"
   ]
  },
  {
   "cell_type": "markdown",
   "metadata": {},
   "source": [
    "\n",
    "\n",
    "### Explanation with Inline Comments\n",
    "\n"
   ]
  },
  {
   "cell_type": "code",
   "execution_count": null,
   "metadata": {},
   "outputs": [],
   "source": [
    "# Initialize a variable to 1\n",
    "count = 1\n",
    "\n",
    "# Start the while loop with the condition that count should be less than or equal to 5\n",
    "while count <= 5:\n",
    "    # Print the current value of count\n",
    "    print(count)\n",
    "    \n",
    "    # Increment the count by 1\n",
    "    count += 1\n",
    "    # The loop will continue until count is greater than 5"
   ]
  },
  {
   "cell_type": "markdown",
   "metadata": {},
   "source": [
    "\n",
    "\n",
    "### More Examples\n",
    "\n",
    "#### Example 1: `while` Loop with a Break Statement\n",
    "\n"
   ]
  },
  {
   "cell_type": "code",
   "execution_count": null,
   "metadata": {},
   "outputs": [],
   "source": [
    "# Initialize a variable\n",
    "count = 1\n",
    "\n",
    "# Start the while loop\n",
    "while True:\n",
    "    # Print the current value of count\n",
    "    print(count)\n",
    "    \n",
    "    # Increment the count by 1\n",
    "    count += 1\n",
    "    \n",
    "    # Break the loop if count is greater than 5\n",
    "    if count > 5:\n",
    "        break"
   ]
  },
  {
   "cell_type": "markdown",
   "metadata": {},
   "source": [
    "\n",
    "\n",
    "#### Example 2: `while` Loop with a Continue Statement\n",
    "\n"
   ]
  },
  {
   "cell_type": "code",
   "execution_count": null,
   "metadata": {},
   "outputs": [],
   "source": [
    "# Initialize a variable\n",
    "count = 0\n",
    "\n",
    "# Start the while loop\n",
    "while count < 10:\n",
    "    # Increment the count by 1\n",
    "    count += 1\n",
    "    \n",
    "    # Skip the rest of the loop if count is odd\n",
    "    if count % 2 != 0:\n",
    "        continue\n",
    "    \n",
    "    # Print the current value of count (only even numbers will be printed)\n",
    "    print(count)"
   ]
  },
  {
   "cell_type": "markdown",
   "metadata": {},
   "source": [
    "\n",
    "\n",
    "### Explanation with Inline Comments\n",
    "\n"
   ]
  },
  {
   "cell_type": "code",
   "execution_count": null,
   "metadata": {},
   "outputs": [],
   "source": [
    "# Example 1: while loop with a break statement\n",
    "\n",
    "# Initialize a variable to 1\n",
    "count = 1\n",
    "\n",
    "# Start an infinite while loop\n",
    "while True:\n",
    "    # Print the current value of count\n",
    "    print(count)\n",
    "    \n",
    "    # Increment the count by 1\n",
    "    count += 1\n",
    "    \n",
    "    # Break the loop if count is greater than 5\n",
    "    if count > 5:\n",
    "        break\n",
    "    # The loop will terminate when count is greater than 5\n",
    "\n",
    "# Example 2: while loop with a continue statement\n",
    "\n",
    "# Initialize a variable to 0\n",
    "count = 0\n",
    "\n",
    "# Start the while loop with the condition that count should be less than 10\n",
    "while count < 10:\n",
    "    # Increment the count by 1\n",
    "    count += 1\n",
    "    \n",
    "    # Skip the rest of the loop if count is odd\n",
    "    if count % 2 != 0:\n",
    "        continue\n",
    "    \n",
    "    # Print the current value of count (only even numbers will be printed)\n",
    "    print(count)\n",
    "    # The loop will continue until count is equal to 10"
   ]
  },
  {
   "cell_type": "markdown",
   "metadata": {},
   "source": [
    "\n",
    "\n",
    "These examples demonstrate how `while` loops can be used to repeatedly execute a block of code based on a condition, and how `break` and `continue` statements can be used to control the flow of the loop."
   ]
  }
 ],
 "metadata": {
  "language_info": {
   "name": "python"
  }
 },
 "nbformat": 4,
 "nbformat_minor": 2
}
