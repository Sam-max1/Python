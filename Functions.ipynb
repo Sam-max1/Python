{
 "cells": [
  {
   "cell_type": "markdown",
   "metadata": {},
   "source": [
    "#### Functions in Python"
   ]
  },
  {
   "cell_type": "markdown",
   "metadata": {},
   "source": [
    "In Python, functions are blocks of reusable code that perform a specific task. Functions help in organizing code, making it more readable and maintainable. Functions can take inputs, perform operations, and return outputs.\n",
    "\n",
    "### Defining a Function\n",
    "\n",
    "A function is defined using the `def` keyword, followed by the function name, parentheses `()`, and a colon `:`. The code block within the function is indented.\n",
    "\n",
    "### Example of a Simple Function\n",
    "\n",
    "Here's an example of a simple function that prints a greeting message:\n",
    "\n"
   ]
  },
  {
   "cell_type": "code",
   "execution_count": null,
   "metadata": {},
   "outputs": [],
   "source": [
    "# Define a function named greet\n",
    "def greet():\n",
    "    # Print a greeting message\n",
    "    print(\"Hello, World!\")\n",
    "\n",
    "# Call the greet function\n",
    "greet()  # Output: Hello, World!"
   ]
  },
  {
   "cell_type": "markdown",
   "metadata": {},
   "source": [
    "\n",
    "\n",
    "### Explanation with Inline Comments\n",
    "\n"
   ]
  },
  {
   "cell_type": "code",
   "execution_count": null,
   "metadata": {},
   "outputs": [],
   "source": [
    "# Define a function named greet\n",
    "def greet():\n",
    "    # Print a greeting message\n",
    "    print(\"Hello, World!\")\n",
    "\n",
    "# Call the greet function\n",
    "greet()  # Output: Hello, World!"
   ]
  },
  {
   "cell_type": "markdown",
   "metadata": {},
   "source": [
    "\n",
    "\n",
    "### Function with Parameters\n",
    "\n",
    "Functions can take parameters (arguments) to perform operations based on the inputs provided.\n",
    "\n",
    "### Example of a Function with Parameters\n",
    "\n",
    "Here's an example of a function that takes two numbers as parameters and returns their sum:\n",
    "\n"
   ]
  },
  {
   "cell_type": "code",
   "execution_count": null,
   "metadata": {},
   "outputs": [],
   "source": [
    "# Define a function named add that takes two parameters: x and y\n",
    "def add(x, y):\n",
    "    # Return the sum of x and y\n",
    "    return x + y\n",
    "\n",
    "# Call the add function with arguments 3 and 5\n",
    "result = add(3, 5)\n",
    "\n",
    "# Print the result\n",
    "print(result)  # Output: 8"
   ]
  },
  {
   "cell_type": "markdown",
   "metadata": {},
   "source": [
    "\n",
    "\n",
    "### Explanation with Inline Comments\n",
    "\n"
   ]
  },
  {
   "cell_type": "code",
   "execution_count": null,
   "metadata": {},
   "outputs": [],
   "source": [
    "# Define a function named add that takes two parameters: x and y\n",
    "def add(x, y):\n",
    "    # Return the sum of x and y\n",
    "    return x + y\n",
    "\n",
    "# Call the add function with arguments 3 and 5\n",
    "result = add(3, 5)\n",
    "\n",
    "# Print the result\n",
    "print(result)  # Output: 8"
   ]
  },
  {
   "cell_type": "markdown",
   "metadata": {},
   "source": [
    "\n",
    "\n",
    "### Function with Default Parameters\n",
    "\n",
    "Functions can have default parameter values, which are used if no argument is provided for that parameter.\n",
    "\n",
    "### Example of a Function with Default Parameters\n",
    "\n",
    "Here's an example of a function that takes a name as a parameter and prints a greeting message. If no name is provided, it uses \"World\" as the default value:\n",
    "\n"
   ]
  },
  {
   "cell_type": "code",
   "execution_count": null,
   "metadata": {},
   "outputs": [],
   "source": [
    "# Define a function named greet that takes one parameter: name, with a default value of \"World\"\n",
    "def greet(name=\"World\"):\n",
    "    # Print a greeting message\n",
    "    print(f\"Hello, {name}!\")\n",
    "\n",
    "# Call the greet function with an argument\n",
    "greet(\"Alice\")  # Output: Hello, Alice!\n",
    "\n",
    "# Call the greet function without an argument\n",
    "greet()  # Output: Hello, World!"
   ]
  },
  {
   "cell_type": "markdown",
   "metadata": {},
   "source": [
    "\n",
    "\n",
    "### Explanation with Inline Comments\n",
    "\n"
   ]
  },
  {
   "cell_type": "code",
   "execution_count": null,
   "metadata": {},
   "outputs": [],
   "source": [
    "# Define a function named greet that takes one parameter: name, with a default value of \"World\"\n",
    "def greet(name=\"World\"):\n",
    "    # Print a greeting message\n",
    "    print(f\"Hello, {name}!\")\n",
    "\n",
    "# Call the greet function with an argument\n",
    "greet(\"Alice\")  # Output: Hello, Alice!\n",
    "\n",
    "# Call the greet function without an argument\n",
    "greet()  # Output: Hello, World!"
   ]
  },
  {
   "cell_type": "markdown",
   "metadata": {},
   "source": [
    "\n",
    "\n",
    "### Function with Return Value\n",
    "\n",
    "Functions can return a value using the `return` statement.\n",
    "\n",
    "### Example of a Function with Return Value\n",
    "\n",
    "Here's an example of a function that calculates the square of a number and returns the result:\n",
    "\n"
   ]
  },
  {
   "cell_type": "code",
   "execution_count": null,
   "metadata": {},
   "outputs": [],
   "source": [
    "# Define a function named square that takes one parameter: x\n",
    "def square(x):\n",
    "    # Return the square of x\n",
    "    return x * x\n",
    "\n",
    "# Call the square function with an argument\n",
    "result = square(4)\n",
    "\n",
    "# Print the result\n",
    "print(result)  # Output: 16"
   ]
  },
  {
   "cell_type": "markdown",
   "metadata": {},
   "source": [
    "\n",
    "\n",
    "### Explanation with Inline Comments\n",
    "\n"
   ]
  },
  {
   "cell_type": "code",
   "execution_count": null,
   "metadata": {},
   "outputs": [],
   "source": [
    "# Define a function named square that takes one parameter: x\n",
    "def square(x):\n",
    "    # Return the square of x\n",
    "    return x * x\n",
    "\n",
    "# Call the square function with an argument\n",
    "result = square(4)\n",
    "\n",
    "# Print the result\n",
    "print(result)  # Output: 16"
   ]
  },
  {
   "cell_type": "markdown",
   "metadata": {},
   "source": [
    "\n",
    "\n",
    "### Lambda Functions\n",
    "\n",
    "Lambda functions are small anonymous functions defined using the `lambda` keyword. They can take any number of arguments but can only have one expression.\n",
    "\n",
    "### Example of a Lambda Function\n",
    "\n",
    "Here's an example of a lambda function that adds two numbers:\n",
    "\n"
   ]
  },
  {
   "cell_type": "code",
   "execution_count": null,
   "metadata": {},
   "outputs": [],
   "source": [
    "# Define a lambda function that adds two numbers\n",
    "add = lambda x, y: x + y\n",
    "\n",
    "# Call the lambda function with arguments 3 and 5\n",
    "result = add(3, 5)\n",
    "\n",
    "# Print the result\n",
    "print(result)  # Output: 8"
   ]
  },
  {
   "cell_type": "markdown",
   "metadata": {},
   "source": [
    "\n",
    "\n",
    "### Explanation with Inline Comments\n",
    "\n"
   ]
  },
  {
   "cell_type": "code",
   "execution_count": null,
   "metadata": {},
   "outputs": [],
   "source": [
    "# Define a lambda function that adds two numbers\n",
    "add = lambda x, y: x + y\n",
    "\n",
    "# Call the lambda function with arguments 3 and 5\n",
    "result = add(3, 5)\n",
    "\n",
    "# Print the result\n",
    "print(result)  # Output: 8"
   ]
  },
  {
   "cell_type": "markdown",
   "metadata": {},
   "source": [
    "\n",
    "\n",
    "These examples demonstrate how functions in Python can be defined, called, and used with parameters, default values, return values, and lambda functions. Functions are essential for organizing code and making it reusable and maintainable."
   ]
  }
 ],
 "metadata": {
  "language_info": {
   "name": "python"
  }
 },
 "nbformat": 4,
 "nbformat_minor": 2
}
