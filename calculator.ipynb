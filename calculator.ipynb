{
 "cells": [
  {
   "cell_type": "markdown",
   "metadata": {},
   "source": [
    "#### Simple Calculator\n",
    "\n",
    "- Addition\n",
    "- Substraction\n",
    "- Multiplication\n",
    "- Division"
   ]
  },
  {
   "cell_type": "code",
   "execution_count": null,
   "metadata": {},
   "outputs": [],
   "source": [
    "# Simple Calculator\n",
    "\n",
    "# Addition function\n",
    "def add(a, b):\n",
    "    return a + b\n",
    "\n",
    "# Substraction function\n",
    "def subtract(a, b):\n",
    "    return a - b\n",
    "\n",
    "# Multiply function\n",
    "def multiply(a, b):\n",
    "    return a * b\n",
    "\n",
    "# Division function\n",
    "def divide(a, b):\n",
    "    if b != 0:\n",
    "        return a / b\n",
    "    else:\n",
    "        return \"Error! Division by zero.\"\n",
    "\n",
    "# Calculator function\n",
    "def calculator():\n",
    "    while True:     # Display menu to user\n",
    "        print(\"\\nSimple Calculator\")\n",
    "        print(\"1. Addition\")\n",
    "        print(\"2. Subtraction\")\n",
    "        print(\"3. Multiplication\")\n",
    "        print(\"4. Division\")\n",
    "        print(\"5. Exit\")\n",
    "\n",
    "        choice = input(\"Enter your choice (1-5): \")     # Read input from user\n",
    "\n",
    "        if choice in ['1', '2', '3', '4']:      # Process user input in if condition\n",
    "            try:    # Implement error handling in use value input\n",
    "                num1 = float(input(\"Enter the first number: \"))\n",
    "                num2 = float(input(\"Enter the second number: \"))\n",
    "\n",
    "                if choice == '1':       # Addition selected\n",
    "                    print(f\"Result: {add(num1, num2)}\")\n",
    "                elif choice == '2':     # Substraction selected\n",
    "                    print(f\"Result: {subtract(num1, num2)}\")\n",
    "                elif choice == '3':     # Multiplication selected\n",
    "                    print(f\"Result: {multiply(num1, num2)}\")\n",
    "                elif choice == '4':     # Division selected\n",
    "                    print(f\"Result: {divide(num1, num2)}\")\n",
    "            except ValueError:\n",
    "                print(\"Invalid input! Please enter numerical values.\")\n",
    "\n",
    "        elif choice == '5':     # User selected Exit\n",
    "            print(\"Exiting the calculator. Goodbye!\")\n",
    "            break\n",
    "        else:       # User entered invalid choice\n",
    "            print(\"Invalid choice! Please select a valid option.\")\n",
    "\n",
    "\n",
    "# Main Calculator\n",
    "calculator()\n"
   ]
  },
  {
   "cell_type": "markdown",
   "metadata": {},
   "source": [
    "#### How It Works:\n",
    "- The program displays a menu of options for the user to choose from.\n",
    "- Based on the user's selection, it performs the corresponding operation.\n",
    "- The program handles invalid input (like dividing by zero or non-numeric input) gracefully.\n",
    "- The calculator continues running in a loop until the user chooses to exit."
   ]
  }
 ],
 "metadata": {
  "language_info": {
   "name": "python"
  }
 },
 "nbformat": 4,
 "nbformat_minor": 2
}
